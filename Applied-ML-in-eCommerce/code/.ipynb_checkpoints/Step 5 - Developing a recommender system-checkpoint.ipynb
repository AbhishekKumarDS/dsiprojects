{
 "cells": [
  {
   "cell_type": "markdown",
   "metadata": {},
   "source": [
    "# Data Description\n",
    "\n",
    "This is a Brazilian ecommerce public dataset of orders made at Olist Store. The dataset has information of 100k orders from 2016 to 2018 made at multiple marketplaces in Brazil. Its features allow viewing an order from multiple dimensions: from order status, price, payment and freight performance to customer location, product attributes and finally reviews written by customers. There is also a geolocation dataset that relates Brazilian zip codes to lat/lng coordinates.\n",
    "\n",
    "This is real commercial data which has been anonymised.\n",
    "\n",
    "# Context\n",
    "\n",
    "This dataset was generously provided by Olist, the largest department store in Brazilian marketplaces. Olist connects small businesses from all over Brazil to channels without hassle and with a single contract. Those merchants are able to sell their products through the Olist Store and ship them directly to the customers using Olist logistics partners. \n",
    "\n",
    "After a customer purchases the product from Olist Store a seller gets notified to fulfill that order. Once the customer receives the product, or the estimated delivery date is due, the customer gets a satisfaction survey by email where he can give a note for the purchase experience and write down some comments.\n",
    "\n",
    "# Data Science Problem Statement(s)\n",
    "\n",
    "Through this dataset, I will use various machine learning methods for the following problems -  \n",
    "\n",
    "1) Segmentation - How can customers be clustered based on their purchase habits?   \n",
    "2) Customer Lifetime Value - How much will a customer bring in future revenue?  \n",
    "3) Churn - Which customers are likely to remain or not remain with Olist?  \n",
    "4) Recommendations - How can we increase user basket size by engaging users more with a recommendation system?  \n",
    "5) Customer reviews - Can we predict customer review scores based on the various features?"
   ]
  },
  {
   "cell_type": "markdown",
   "metadata": {},
   "source": [
    "The data is divided into multiple datasets for better organization. As such I will be working with different sub sets across the various project steps - depending on the objective. Please refer to the following data schema for clarity:\n",
    "<img src=\"https://i.imgur.com/HRhd2Y0.png\" />"
   ]
  },
  {
   "cell_type": "markdown",
   "metadata": {},
   "source": [
    "**Objective:**  \n",
    "Engineer a product recommendation system for an e-commerce website to increase customer retention and sales.\n",
    "\n",
    "**Featured Techniques:**\n",
    "* Feature Engineering\n",
    "* Collaborative Filtering\n",
    "* Surprise Package SVD\n",
    "\n",
    "**Methodology:**  \n",
    "Users are separated into repeat customers and first time customers and the recommendation system works as follows. \n",
    "* Repeat Customers\n",
    "    * Collaborative filtering recommendation\n",
    "    * Hot Products\n",
    "    * Popular in your area\n",
    "    \n",
    "* New Customers\n",
    "    * Hot products\n",
    "    * Popular in your area\n",
    "\n",
    "**Data:** \n",
    "https://www.kaggle.com/olistbr/brazilian-ecommerce#olist_products_dataset.csv"
   ]
  },
  {
   "cell_type": "markdown",
   "metadata": {},
   "source": [
    "## Contents:\n",
    "- [Data Import & Cleaning](#Data-Import-and-Cleaning)\n",
    "- [Feature Engineering](#Feature-Engineering)\n",
    "- [Macro-Level-Analysis](#Understanding-the-data-from-a-macro-level)\n",
    "- [Time Series Analysis](#Time-series-analysis)\n",
    "- [Revenue Analysis](#Understanding-revenue-patterns)\n",
    "- [Category Level Analysis](#Category-level-analysis)\n",
    "- [Geospatial Analysis](#Geospatial-Analysis)\n",
    "- [Next Steps](#Next-Steps)"
   ]
  },
  {
   "cell_type": "markdown",
   "metadata": {},
   "source": [
    "# Data Import and Cleaning"
   ]
  },
  {
   "cell_type": "code",
   "execution_count": 3,
   "metadata": {},
   "outputs": [],
   "source": [
    "import pandas as pd\n",
    "import numpy as np\n",
    "from collections import defaultdict\n",
    "\n",
    "import psycopg2 as pg\n",
    "import pandas.io.sql as pd_sql\n",
    "from psycopg2 import connect\n",
    "from psycopg2.extensions import ISOLATION_LEVEL_AUTOCOMMIT\n",
    "\n",
    "from scipy import stats\n",
    "\n",
    "from surprise import NormalPredictor, Reader, Dataset, accuracy, SVD, SVDpp, KNNBasic, CoClustering, SlopeOne\n",
    "from surprise.model_selection import cross_validate, KFold, GridSearchCV, train_test_split\n",
    "\n",
    "\n",
    "from sklearn.preprocessing import StandardScaler\n",
    "from sklearn.metrics import mean_squared_error\n",
    "\n",
    "\n",
    "import matplotlib.pyplot as plt\n",
    "import seaborn as sns\n",
    "%matplotlib inline\n",
    "\n",
    "import math\n",
    "from datetime import datetime\n",
    "\n"
   ]
  },
  {
   "cell_type": "markdown",
   "metadata": {},
   "source": [
    "## Viewing and Cleaning"
   ]
  },
  {
   "cell_type": "code",
   "execution_count": 7,
   "metadata": {},
   "outputs": [],
   "source": [
    "olist_data = pd.read_csv('../datasets/Olist_final_clean.csv')"
   ]
  },
  {
   "cell_type": "code",
   "execution_count": 8,
   "metadata": {},
   "outputs": [
    {
     "name": "stdout",
     "output_type": "stream",
     "text": [
      "<class 'pandas.core.frame.DataFrame'>\n",
      "RangeIndex: 118318 entries, 0 to 118317\n",
      "Data columns (total 60 columns):\n",
      " #   Column                         Non-Null Count   Dtype  \n",
      "---  ------                         --------------   -----  \n",
      " 0   order_id                       118315 non-null  object \n",
      " 1   order_item_id                  118318 non-null  object \n",
      " 2   product_id                     118318 non-null  object \n",
      " 3   seller_id                      118318 non-null  object \n",
      " 4   shipping_limit_date            118318 non-null  object \n",
      " 5   price                          118318 non-null  object \n",
      " 6   freight_value                  118318 non-null  object \n",
      " 7   payment_sequential             118318 non-null  object \n",
      " 8   payment_type                   118318 non-null  object \n",
      " 9   payment_installments           118318 non-null  object \n",
      " 10  payment_value                  118318 non-null  object \n",
      " 11  product_category_name          116609 non-null  object \n",
      " 12  product_name_lenght            116609 non-null  object \n",
      " 13  product_description_lenght     116609 non-null  object \n",
      " 14  product_photos_qty             116609 non-null  float64\n",
      " 15  product_weight_g               118298 non-null  float64\n",
      " 16  product_length_cm              118298 non-null  float64\n",
      " 17  product_height_cm              118298 non-null  float64\n",
      " 18  product_width_cm               118298 non-null  float64\n",
      " 19  seller_zip_code_prefix         118318 non-null  object \n",
      " 20  seller_city                    118318 non-null  object \n",
      " 21  seller_state                   118318 non-null  object \n",
      " 22  review_id                      118318 non-null  object \n",
      " 23  review_score                   118318 non-null  int64  \n",
      " 24  review_comment_title           14092 non-null   object \n",
      " 25  review_comment_message         50668 non-null   object \n",
      " 26  review_creation_date           118315 non-null  object \n",
      " 27  review_answer_timestamp        118315 non-null  object \n",
      " 28  customer_id                    118315 non-null  object \n",
      " 29  order_status                   118315 non-null  object \n",
      " 30  order_purchase_timestamp       118315 non-null  object \n",
      " 31  order_approved_at              118300 non-null  object \n",
      " 32  order_delivered_carrier_date   117061 non-null  object \n",
      " 33  order_delivered_customer_date  115727 non-null  object \n",
      " 34  order_estimated_delivery_date  118315 non-null  object \n",
      " 35  customer_unique_id             118312 non-null  object \n",
      " 36  customer_zip_code_prefix       118312 non-null  float64\n",
      " 37  customer_city                  118312 non-null  object \n",
      " 38  customer_state                 118312 non-null  object \n",
      " 39  review_response_time           118312 non-null  float64\n",
      " 40  order_purchase_year            118312 non-null  float64\n",
      " 41  order_purchase_month           118312 non-null  float64\n",
      " 42  order_purchase_dayofweek       118312 non-null  float64\n",
      " 43  order_purchase_hour            118312 non-null  float64\n",
      " 44  order_purchase_day             118312 non-null  object \n",
      " 45  order_purchase_mon             118312 non-null  object \n",
      " 46  order_purchase_year_month      118312 non-null  float64\n",
      " 47  order_purchase_time_day        118312 non-null  object \n",
      " 48  review_dayofweek               118312 non-null  float64\n",
      " 49  review_day                     118312 non-null  object \n",
      " 50  review_month                   118312 non-null  object \n",
      " 51  id                             118312 non-null  float64\n",
      " 52  sigla                          118312 non-null  object \n",
      " 53  nome                           118312 non-null  object \n",
      " 54  nome_regiao                    118312 non-null  object \n",
      " 55  geolocation_zip_code_prefix    117994 non-null  float64\n",
      " 56  geolocation_lat                117994 non-null  float64\n",
      " 57  geolocation_lng                117994 non-null  float64\n",
      " 58  geolocation_city               117994 non-null  object \n",
      " 59  geolocation_state              117994 non-null  object \n",
      "dtypes: float64(17), int64(1), object(42)\n",
      "memory usage: 54.2+ MB\n"
     ]
    }
   ],
   "source": [
    "olist_data.info()"
   ]
  },
  {
   "cell_type": "code",
   "execution_count": 366,
   "metadata": {},
   "outputs": [],
   "source": [
    "# some purchases are payed with by vouchers which causes them to split into many lines of\n",
    "# smaller payments. To normalize with the rest of the data, combining these values into \n",
    "# one total payment value\n",
    "\n",
    "def create_total_payment_value(data):\n",
    "    data['total_payment'] = data['payment_value'].groupby(data['order_id']).transform('sum')\n",
    "    data= data.drop('payment_value', axis=1)\n",
    "    return data"
   ]
  },
  {
   "cell_type": "code",
   "execution_count": 367,
   "metadata": {},
   "outputs": [],
   "source": [
    "olist_data = create_total_payment_value(olist_data)"
   ]
  },
  {
   "cell_type": "markdown",
   "metadata": {},
   "source": [
    "# Feature Engineering"
   ]
  },
  {
   "cell_type": "markdown",
   "metadata": {},
   "source": [
    "When entering the site, the customers are flagged as a repeat customer or new customer and handled as follows.  \n",
    "\n",
    "**Repeat Customers:** Collaborative filtering is used to recommend products. Results are measured by how many predictions are right using the recommender vs. how many are right when just recommending the most popular item.  \n",
    "\n",
    "**For New Users:** Recommendation based on \n",
    "* Customer Segmentation, then pick the top product in that customer base\n",
    "* People in your area, then pick the top products in that customer base   \n",
    "\n",
    "Results are measured by comparing predictions to the overall most popular item"
   ]
  },
  {
   "cell_type": "code",
   "execution_count": 13,
   "metadata": {},
   "outputs": [],
   "source": [
    "def repeat_and_first_time(data):\n",
    "    \"\"\"Takes in a dataset and returns back the dataset with only repeated customers\"\"\"\n",
    "    repeaters = data.groupby('customer_unique_id').filter(lambda x: len(x) > 1)\n",
    "    first_timers = data.groupby('customer_unique_id').filter(lambda x: len(x) == 1)\n",
    "\n",
    "    return repeaters, first_timers"
   ]
  },
  {
   "cell_type": "code",
   "execution_count": 14,
   "metadata": {},
   "outputs": [],
   "source": [
    "repeater_data, first_timer_data = repeat_and_first_time(olist_data)"
   ]
  },
  {
   "cell_type": "code",
   "execution_count": 16,
   "metadata": {},
   "outputs": [
    {
     "name": "stdout",
     "output_type": "stream",
     "text": [
      "full_df shape: (118312, 62)\n"
     ]
    }
   ],
   "source": [
    "def regenerate_dataset_with_indicators(repeater_data, first_timer_data):\n",
    "    repeater_data['repeater'] = 1\n",
    "    first_timer_data['repeater'] = 0\n",
    "    \n",
    "    full_df = pd.concat((repeater_data, first_timer_data), axis=0).reset_index()\n",
    "    print(\"full_df shape:\", full_df.shape)\n",
    "    return full_df\n",
    "\n",
    "full_df = regenerate_dataset_with_indicators(repeater_data, first_timer_data)"
   ]
  },
  {
   "cell_type": "markdown",
   "metadata": {},
   "source": [
    "Additional features are also added to the dataset to explore the delivery process and seller performance."
   ]
  },
  {
   "cell_type": "code",
   "execution_count": 17,
   "metadata": {},
   "outputs": [
    {
     "name": "stdout",
     "output_type": "stream",
     "text": [
      "Step 1 complete.\n",
      "Step 2 complete.\n",
      "Step 3 complete.\n"
     ]
    }
   ],
   "source": [
    "def full_def_feature_engineering(data):\n",
    "    data.order_purchase_timestamp = pd.to_datetime(data.order_purchase_timestamp).dt.date\n",
    "    data.order_delivered_customer_date = pd.to_datetime(data.order_delivered_customer_date).dt.date\n",
    "    data.order_estimated_delivery_date = pd.to_datetime(data.order_estimated_delivery_date).dt.date\n",
    "    \n",
    "    df = data.copy()\n",
    "    \n",
    "    df['days_to_delivery'] = (df.order_delivered_customer_date - data.order_purchase_timestamp).apply(lambda x: x.days) \n",
    "    print(\"Step 1 complete.\")\n",
    "    \n",
    "    df['estimated_days_to_delivery'] = (df.order_estimated_delivery_date - data.order_purchase_timestamp).apply(lambda x: x.days)\n",
    "    \n",
    "    df['days_early_late'] = (df.estimated_days_to_delivery - df.days_to_delivery)#negative = late\n",
    "    print(\"Step 2 complete.\")    \n",
    "    \n",
    "    df['seller_avg_rating'] = df.groupby('seller_id')['review_score'].transform('mean')\n",
    "    print(\"Step 3 complete.\")\n",
    "    \n",
    "    df = df.dropna(axis=0)\n",
    "    \n",
    "    return df\n",
    "\n",
    "feat_eng_full = full_def_feature_engineering(full_df)\n",
    "\n"
   ]
  },
  {
   "cell_type": "markdown",
   "metadata": {},
   "source": [
    "# Repeat Customers"
   ]
  },
  {
   "cell_type": "markdown",
   "metadata": {},
   "source": [
    "The full data set is filtered down to only repeat customers. The goal is to predict the customers review on a product they have not purchased. Five methods are tested and compared: using only purchase count, using dummy variables, normalized purchase frequency, user ratings matrix, and normalized user ratings matrix."
   ]
  },
  {
   "cell_type": "markdown",
   "metadata": {},
   "source": [
    "## Preparing Dataframes"
   ]
  },
  {
   "cell_type": "markdown",
   "metadata": {},
   "source": [
    "### Method 1: Purchase Count"
   ]
  },
  {
   "cell_type": "code",
   "execution_count": 18,
   "metadata": {},
   "outputs": [],
   "source": [
    "def create_puchase_count_df(data):\n",
    "    \"\"\"\n",
    "    Creates a dataset with customer_unique_id, _productId, and purchase count for that \n",
    "    user-product combination.\n",
    "    \"\"\"\n",
    "    purchase_count = pd.melt(data.set_index('customer_unique_id')['product_id'].apply(pd.Series).reset_index(), \n",
    "                 id_vars=['customer_unique_id'],\n",
    "                 value_name='product_id')\n",
    "    purchase_count = purchase_count.dropna().drop(['variable'], axis=1)\n",
    "    purchase_count = purchase_count.groupby(['customer_unique_id', 'product_id']).agg({'product_id': 'count'})\n",
    "    purchase_count = purchase_count.rename(columns={'product_id': 'estimator'}).reset_index()\n",
    "    purchase_count = purchase_count.rename(columns={'product_id': 'productId'})\n",
    "    \n",
    "    return purchase_count"
   ]
  },
  {
   "cell_type": "code",
   "execution_count": 19,
   "metadata": {},
   "outputs": [],
   "source": [
    "purchase_count_df = create_puchase_count_df(repeater_data)"
   ]
  },
  {
   "cell_type": "code",
   "execution_count": 20,
   "metadata": {},
   "outputs": [
    {
     "data": {
      "text/html": [
       "<div>\n",
       "<style scoped>\n",
       "    .dataframe tbody tr th:only-of-type {\n",
       "        vertical-align: middle;\n",
       "    }\n",
       "\n",
       "    .dataframe tbody tr th {\n",
       "        vertical-align: top;\n",
       "    }\n",
       "\n",
       "    .dataframe thead th {\n",
       "        text-align: right;\n",
       "    }\n",
       "</style>\n",
       "<table border=\"1\" class=\"dataframe\">\n",
       "  <thead>\n",
       "    <tr style=\"text-align: right;\">\n",
       "      <th></th>\n",
       "      <th>customer_unique_id</th>\n",
       "      <th>productId</th>\n",
       "      <th>estimator</th>\n",
       "    </tr>\n",
       "  </thead>\n",
       "  <tbody>\n",
       "    <tr>\n",
       "      <th>0</th>\n",
       "      <td>00053a61a98854899e70ed204dd4bafe</td>\n",
       "      <td>58727e154e8e85d84052cd22b0136c84</td>\n",
       "      <td>1</td>\n",
       "    </tr>\n",
       "    <tr>\n",
       "      <th>1</th>\n",
       "      <td>00053a61a98854899e70ed204dd4bafe</td>\n",
       "      <td>62984ea1bba7fcea1f5b57084d3bf885</td>\n",
       "      <td>1</td>\n",
       "    </tr>\n",
       "    <tr>\n",
       "      <th>2</th>\n",
       "      <td>000bfa1d2f1a41876493be685390d6d3</td>\n",
       "      <td>bb15f9ba2ec6e36ab6c9e88d17430d64</td>\n",
       "      <td>2</td>\n",
       "    </tr>\n",
       "    <tr>\n",
       "      <th>3</th>\n",
       "      <td>000de6019bb59f34c099a907c151d855</td>\n",
       "      <td>9e572ff4654f7064419d97a891a8b0fc</td>\n",
       "      <td>1</td>\n",
       "    </tr>\n",
       "    <tr>\n",
       "      <th>4</th>\n",
       "      <td>000de6019bb59f34c099a907c151d855</td>\n",
       "      <td>af0a917aec9cea3b353ece61a8825326</td>\n",
       "      <td>1</td>\n",
       "    </tr>\n",
       "  </tbody>\n",
       "</table>\n",
       "</div>"
      ],
      "text/plain": [
       "                 customer_unique_id                         productId  \\\n",
       "0  00053a61a98854899e70ed204dd4bafe  58727e154e8e85d84052cd22b0136c84   \n",
       "1  00053a61a98854899e70ed204dd4bafe  62984ea1bba7fcea1f5b57084d3bf885   \n",
       "2  000bfa1d2f1a41876493be685390d6d3  bb15f9ba2ec6e36ab6c9e88d17430d64   \n",
       "3  000de6019bb59f34c099a907c151d855  9e572ff4654f7064419d97a891a8b0fc   \n",
       "4  000de6019bb59f34c099a907c151d855  af0a917aec9cea3b353ece61a8825326   \n",
       "\n",
       "   estimator  \n",
       "0          1  \n",
       "1          1  \n",
       "2          2  \n",
       "3          1  \n",
       "4          1  "
      ]
     },
     "execution_count": 20,
     "metadata": {},
     "output_type": "execute_result"
    }
   ],
   "source": [
    "purchase_count_df.head()"
   ]
  },
  {
   "cell_type": "markdown",
   "metadata": {},
   "source": [
    "### Method 2: Dummy Variables"
   ]
  },
  {
   "cell_type": "code",
   "execution_count": 21,
   "metadata": {},
   "outputs": [],
   "source": [
    "def create_data_dummy(data):\n",
    "    \"\"\"\n",
    "    Creates a dataset with customer_unique_id, _productId, and a binary indicator that the user \n",
    "    purchased that product.\n",
    "    \"\"\"\n",
    "    data_dummy = data.copy()\n",
    "    data_dummy['estimator2'] = 1\n",
    "    data_dummy = data_dummy.drop('estimator', axis=1)\n",
    "    data_dummy = data_dummy.rename({'estimator2':'estimator'}, axis=1)\n",
    "    return data_dummy"
   ]
  },
  {
   "cell_type": "code",
   "execution_count": 22,
   "metadata": {},
   "outputs": [],
   "source": [
    "dummy_df = create_data_dummy(purchase_count_df)"
   ]
  },
  {
   "cell_type": "code",
   "execution_count": 23,
   "metadata": {},
   "outputs": [
    {
     "data": {
      "text/html": [
       "<div>\n",
       "<style scoped>\n",
       "    .dataframe tbody tr th:only-of-type {\n",
       "        vertical-align: middle;\n",
       "    }\n",
       "\n",
       "    .dataframe tbody tr th {\n",
       "        vertical-align: top;\n",
       "    }\n",
       "\n",
       "    .dataframe thead th {\n",
       "        text-align: right;\n",
       "    }\n",
       "</style>\n",
       "<table border=\"1\" class=\"dataframe\">\n",
       "  <thead>\n",
       "    <tr style=\"text-align: right;\">\n",
       "      <th></th>\n",
       "      <th>customer_unique_id</th>\n",
       "      <th>productId</th>\n",
       "      <th>estimator</th>\n",
       "    </tr>\n",
       "  </thead>\n",
       "  <tbody>\n",
       "    <tr>\n",
       "      <th>0</th>\n",
       "      <td>00053a61a98854899e70ed204dd4bafe</td>\n",
       "      <td>58727e154e8e85d84052cd22b0136c84</td>\n",
       "      <td>1</td>\n",
       "    </tr>\n",
       "    <tr>\n",
       "      <th>1</th>\n",
       "      <td>00053a61a98854899e70ed204dd4bafe</td>\n",
       "      <td>62984ea1bba7fcea1f5b57084d3bf885</td>\n",
       "      <td>1</td>\n",
       "    </tr>\n",
       "    <tr>\n",
       "      <th>2</th>\n",
       "      <td>000bfa1d2f1a41876493be685390d6d3</td>\n",
       "      <td>bb15f9ba2ec6e36ab6c9e88d17430d64</td>\n",
       "      <td>1</td>\n",
       "    </tr>\n",
       "    <tr>\n",
       "      <th>3</th>\n",
       "      <td>000de6019bb59f34c099a907c151d855</td>\n",
       "      <td>9e572ff4654f7064419d97a891a8b0fc</td>\n",
       "      <td>1</td>\n",
       "    </tr>\n",
       "    <tr>\n",
       "      <th>4</th>\n",
       "      <td>000de6019bb59f34c099a907c151d855</td>\n",
       "      <td>af0a917aec9cea3b353ece61a8825326</td>\n",
       "      <td>1</td>\n",
       "    </tr>\n",
       "  </tbody>\n",
       "</table>\n",
       "</div>"
      ],
      "text/plain": [
       "                 customer_unique_id                         productId  \\\n",
       "0  00053a61a98854899e70ed204dd4bafe  58727e154e8e85d84052cd22b0136c84   \n",
       "1  00053a61a98854899e70ed204dd4bafe  62984ea1bba7fcea1f5b57084d3bf885   \n",
       "2  000bfa1d2f1a41876493be685390d6d3  bb15f9ba2ec6e36ab6c9e88d17430d64   \n",
       "3  000de6019bb59f34c099a907c151d855  9e572ff4654f7064419d97a891a8b0fc   \n",
       "4  000de6019bb59f34c099a907c151d855  af0a917aec9cea3b353ece61a8825326   \n",
       "\n",
       "   estimator  \n",
       "0          1  \n",
       "1          1  \n",
       "2          1  \n",
       "3          1  \n",
       "4          1  "
      ]
     },
     "execution_count": 23,
     "metadata": {},
     "output_type": "execute_result"
    }
   ],
   "source": [
    "dummy_df.head()"
   ]
  },
  {
   "cell_type": "markdown",
   "metadata": {},
   "source": [
    "### Method 3: Normalize Purchase Frequency"
   ]
  },
  {
   "cell_type": "code",
   "execution_count": 24,
   "metadata": {},
   "outputs": [],
   "source": [
    "def normalize_purchase_count(data):\n",
    "    \"\"\"\n",
    "    Creates a dataset with customer_unique_id, _productId, and purchase count for that \n",
    "    user-product combination, and then normalized the data. \n",
    "    \"\"\"\n",
    "    count_matrix = pd.pivot_table(data, values='estimator', index='customer_unique_id', columns='productId')\n",
    "    \n",
    "    count_matrix_norm = (count_matrix-count_matrix.min())/(count_matrix.max()-count_matrix.min())\n",
    "    count_matrix_norm = count_matrix_norm.reset_index()\n",
    "    count_matrix_norm.index.names = ['scaled_purchase_freq']\n",
    "    \n",
    "    normalized_count_matrix = pd.melt(count_matrix_norm, id_vars=['customer_unique_id'], value_name='estimator').dropna()\n",
    "    \n",
    "    return normalized_count_matrix"
   ]
  },
  {
   "cell_type": "code",
   "execution_count": 25,
   "metadata": {},
   "outputs": [],
   "source": [
    "normalized_purchase_count_df = normalize_purchase_count(purchase_count_df)"
   ]
  },
  {
   "cell_type": "code",
   "execution_count": 26,
   "metadata": {},
   "outputs": [
    {
     "data": {
      "text/html": [
       "<div>\n",
       "<style scoped>\n",
       "    .dataframe tbody tr th:only-of-type {\n",
       "        vertical-align: middle;\n",
       "    }\n",
       "\n",
       "    .dataframe tbody tr th {\n",
       "        vertical-align: top;\n",
       "    }\n",
       "\n",
       "    .dataframe thead th {\n",
       "        text-align: right;\n",
       "    }\n",
       "</style>\n",
       "<table border=\"1\" class=\"dataframe\">\n",
       "  <thead>\n",
       "    <tr style=\"text-align: right;\">\n",
       "      <th></th>\n",
       "      <th>customer_unique_id</th>\n",
       "      <th>productId</th>\n",
       "      <th>estimator</th>\n",
       "    </tr>\n",
       "  </thead>\n",
       "  <tbody>\n",
       "    <tr>\n",
       "      <th>36624</th>\n",
       "      <td>8c5ff160a30c0aa25516abd1d185e9c3</td>\n",
       "      <td>001b72dfd63e9833e8c02742adf472e3</td>\n",
       "      <td>1.0</td>\n",
       "    </tr>\n",
       "    <tr>\n",
       "      <th>39465</th>\n",
       "      <td>be6fc02ad3ccde9632a496c819cbf1ff</td>\n",
       "      <td>001b72dfd63e9833e8c02742adf472e3</td>\n",
       "      <td>0.0</td>\n",
       "    </tr>\n",
       "    <tr>\n",
       "      <th>40958</th>\n",
       "      <td>d8670b3aea02d9a40030c0d8ab6e72b5</td>\n",
       "      <td>001b72dfd63e9833e8c02742adf472e3</td>\n",
       "      <td>1.0</td>\n",
       "    </tr>\n",
       "    <tr>\n",
       "      <th>88147</th>\n",
       "      <td>1ef771a737cd7ccbbb5407906939629e</td>\n",
       "      <td>00250175f79f584c14ab5cecd80553cd</td>\n",
       "      <td>1.0</td>\n",
       "    </tr>\n",
       "    <tr>\n",
       "      <th>93387</th>\n",
       "      <td>7d35f5764e668c9deade51c2fd31758a</td>\n",
       "      <td>00250175f79f584c14ab5cecd80553cd</td>\n",
       "      <td>0.0</td>\n",
       "    </tr>\n",
       "  </tbody>\n",
       "</table>\n",
       "</div>"
      ],
      "text/plain": [
       "                     customer_unique_id                         productId  \\\n",
       "36624  8c5ff160a30c0aa25516abd1d185e9c3  001b72dfd63e9833e8c02742adf472e3   \n",
       "39465  be6fc02ad3ccde9632a496c819cbf1ff  001b72dfd63e9833e8c02742adf472e3   \n",
       "40958  d8670b3aea02d9a40030c0d8ab6e72b5  001b72dfd63e9833e8c02742adf472e3   \n",
       "88147  1ef771a737cd7ccbbb5407906939629e  00250175f79f584c14ab5cecd80553cd   \n",
       "93387  7d35f5764e668c9deade51c2fd31758a  00250175f79f584c14ab5cecd80553cd   \n",
       "\n",
       "       estimator  \n",
       "36624        1.0  \n",
       "39465        0.0  \n",
       "40958        1.0  \n",
       "88147        1.0  \n",
       "93387        0.0  "
      ]
     },
     "execution_count": 26,
     "metadata": {},
     "output_type": "execute_result"
    }
   ],
   "source": [
    "normalized_purchase_count_df.head()"
   ]
  },
  {
   "cell_type": "markdown",
   "metadata": {},
   "source": [
    "### Method 4: User Ratings Matrix"
   ]
  },
  {
   "cell_type": "code",
   "execution_count": 27,
   "metadata": {},
   "outputs": [],
   "source": [
    "def create_user_ratings_df(data):\n",
    "    \"\"\"Takes in a dataset and aggregates the review score for each product within each\n",
    "    customer_unique_id.\"\"\"\n",
    "    user_prod_reviewscore_data = data.groupby(['customer_unique_id','product_id']\n",
    "                                             )['review_score'].agg(['mean']).reset_index()\n",
    "    \n",
    "    user_prod_reviewscore_data = user_prod_reviewscore_data.rename({'mean':'estimator', 'product_id':'productId'}, \n",
    "                                                                   axis=1)\n",
    "    \n",
    "#     user_prod_reviewscore_data.avg_rating = user_prod_reviewscore_data.avg_rating.apply(lambda x: 1)\n",
    "    \n",
    "    return user_prod_reviewscore_data"
   ]
  },
  {
   "cell_type": "code",
   "execution_count": 28,
   "metadata": {},
   "outputs": [],
   "source": [
    "user_ratings_df = create_user_ratings_df(repeater_data)"
   ]
  },
  {
   "cell_type": "code",
   "execution_count": 29,
   "metadata": {},
   "outputs": [
    {
     "data": {
      "text/html": [
       "<div>\n",
       "<style scoped>\n",
       "    .dataframe tbody tr th:only-of-type {\n",
       "        vertical-align: middle;\n",
       "    }\n",
       "\n",
       "    .dataframe tbody tr th {\n",
       "        vertical-align: top;\n",
       "    }\n",
       "\n",
       "    .dataframe thead th {\n",
       "        text-align: right;\n",
       "    }\n",
       "</style>\n",
       "<table border=\"1\" class=\"dataframe\">\n",
       "  <thead>\n",
       "    <tr style=\"text-align: right;\">\n",
       "      <th></th>\n",
       "      <th>customer_unique_id</th>\n",
       "      <th>productId</th>\n",
       "      <th>estimator</th>\n",
       "    </tr>\n",
       "  </thead>\n",
       "  <tbody>\n",
       "    <tr>\n",
       "      <th>0</th>\n",
       "      <td>00053a61a98854899e70ed204dd4bafe</td>\n",
       "      <td>58727e154e8e85d84052cd22b0136c84</td>\n",
       "      <td>1.0</td>\n",
       "    </tr>\n",
       "    <tr>\n",
       "      <th>1</th>\n",
       "      <td>00053a61a98854899e70ed204dd4bafe</td>\n",
       "      <td>62984ea1bba7fcea1f5b57084d3bf885</td>\n",
       "      <td>1.0</td>\n",
       "    </tr>\n",
       "    <tr>\n",
       "      <th>2</th>\n",
       "      <td>000bfa1d2f1a41876493be685390d6d3</td>\n",
       "      <td>bb15f9ba2ec6e36ab6c9e88d17430d64</td>\n",
       "      <td>4.5</td>\n",
       "    </tr>\n",
       "    <tr>\n",
       "      <th>3</th>\n",
       "      <td>000de6019bb59f34c099a907c151d855</td>\n",
       "      <td>9e572ff4654f7064419d97a891a8b0fc</td>\n",
       "      <td>2.0</td>\n",
       "    </tr>\n",
       "    <tr>\n",
       "      <th>4</th>\n",
       "      <td>000de6019bb59f34c099a907c151d855</td>\n",
       "      <td>af0a917aec9cea3b353ece61a8825326</td>\n",
       "      <td>2.0</td>\n",
       "    </tr>\n",
       "  </tbody>\n",
       "</table>\n",
       "</div>"
      ],
      "text/plain": [
       "                 customer_unique_id                         productId  \\\n",
       "0  00053a61a98854899e70ed204dd4bafe  58727e154e8e85d84052cd22b0136c84   \n",
       "1  00053a61a98854899e70ed204dd4bafe  62984ea1bba7fcea1f5b57084d3bf885   \n",
       "2  000bfa1d2f1a41876493be685390d6d3  bb15f9ba2ec6e36ab6c9e88d17430d64   \n",
       "3  000de6019bb59f34c099a907c151d855  9e572ff4654f7064419d97a891a8b0fc   \n",
       "4  000de6019bb59f34c099a907c151d855  af0a917aec9cea3b353ece61a8825326   \n",
       "\n",
       "   estimator  \n",
       "0        1.0  \n",
       "1        1.0  \n",
       "2        4.5  \n",
       "3        2.0  \n",
       "4        2.0  "
      ]
     },
     "execution_count": 29,
     "metadata": {},
     "output_type": "execute_result"
    }
   ],
   "source": [
    "user_ratings_df.head()"
   ]
  },
  {
   "cell_type": "markdown",
   "metadata": {},
   "source": [
    "### Method 5: Normalized User Ratings Matrix"
   ]
  },
  {
   "cell_type": "code",
   "execution_count": 30,
   "metadata": {},
   "outputs": [],
   "source": [
    "def normalize_purchase_count(data):\n",
    "    \"\"\"Creates a user-ratings matrix but normalizes the ratings data.\"\"\"\n",
    "    ratings_matrix = pd.pivot_table(data, values='estimator', index='customer_unique_id', columns='productId')\n",
    "    \n",
    "    ratings_matrix_norm = (ratings_matrix-ratings_matrix.min())/(ratings_matrix.max()-ratings_matrix.min())\n",
    "    ratings_matrix_norm = ratings_matrix_norm.reset_index()\n",
    "    ratings_matrix_norm.index.names = ['estimator']\n",
    "    \n",
    "    normalized_ratings_matrix = pd.melt(ratings_matrix_norm, id_vars=['customer_unique_id'], value_name='estimator').dropna()\n",
    "    \n",
    "    return normalized_ratings_matrix"
   ]
  },
  {
   "cell_type": "code",
   "execution_count": 31,
   "metadata": {},
   "outputs": [],
   "source": [
    "normalized_user_ratings_df = normalize_purchase_count(user_ratings_df)"
   ]
  },
  {
   "cell_type": "code",
   "execution_count": 32,
   "metadata": {},
   "outputs": [
    {
     "data": {
      "text/html": [
       "<div>\n",
       "<style scoped>\n",
       "    .dataframe tbody tr th:only-of-type {\n",
       "        vertical-align: middle;\n",
       "    }\n",
       "\n",
       "    .dataframe tbody tr th {\n",
       "        vertical-align: top;\n",
       "    }\n",
       "\n",
       "    .dataframe thead th {\n",
       "        text-align: right;\n",
       "    }\n",
       "</style>\n",
       "<table border=\"1\" class=\"dataframe\">\n",
       "  <thead>\n",
       "    <tr style=\"text-align: right;\">\n",
       "      <th></th>\n",
       "      <th>customer_unique_id</th>\n",
       "      <th>productId</th>\n",
       "      <th>estimator</th>\n",
       "    </tr>\n",
       "  </thead>\n",
       "  <tbody>\n",
       "    <tr>\n",
       "      <th>24062</th>\n",
       "      <td>ac7cbcc0c3a162e01f6e6d76b2bd6039</td>\n",
       "      <td>001795ec6f1b187d37335e1c4704762e</td>\n",
       "      <td>1.0</td>\n",
       "    </tr>\n",
       "    <tr>\n",
       "      <th>27503</th>\n",
       "      <td>e890c412a8b910d4709660658d700483</td>\n",
       "      <td>001795ec6f1b187d37335e1c4704762e</td>\n",
       "      <td>0.0</td>\n",
       "    </tr>\n",
       "    <tr>\n",
       "      <th>36624</th>\n",
       "      <td>8c5ff160a30c0aa25516abd1d185e9c3</td>\n",
       "      <td>001b72dfd63e9833e8c02742adf472e3</td>\n",
       "      <td>0.0</td>\n",
       "    </tr>\n",
       "    <tr>\n",
       "      <th>39465</th>\n",
       "      <td>be6fc02ad3ccde9632a496c819cbf1ff</td>\n",
       "      <td>001b72dfd63e9833e8c02742adf472e3</td>\n",
       "      <td>1.0</td>\n",
       "    </tr>\n",
       "    <tr>\n",
       "      <th>40958</th>\n",
       "      <td>d8670b3aea02d9a40030c0d8ab6e72b5</td>\n",
       "      <td>001b72dfd63e9833e8c02742adf472e3</td>\n",
       "      <td>0.5</td>\n",
       "    </tr>\n",
       "  </tbody>\n",
       "</table>\n",
       "</div>"
      ],
      "text/plain": [
       "                     customer_unique_id                         productId  \\\n",
       "24062  ac7cbcc0c3a162e01f6e6d76b2bd6039  001795ec6f1b187d37335e1c4704762e   \n",
       "27503  e890c412a8b910d4709660658d700483  001795ec6f1b187d37335e1c4704762e   \n",
       "36624  8c5ff160a30c0aa25516abd1d185e9c3  001b72dfd63e9833e8c02742adf472e3   \n",
       "39465  be6fc02ad3ccde9632a496c819cbf1ff  001b72dfd63e9833e8c02742adf472e3   \n",
       "40958  d8670b3aea02d9a40030c0d8ab6e72b5  001b72dfd63e9833e8c02742adf472e3   \n",
       "\n",
       "       estimator  \n",
       "24062        1.0  \n",
       "27503        0.0  \n",
       "36624        0.0  \n",
       "39465        1.0  \n",
       "40958        0.5  "
      ]
     },
     "execution_count": 32,
     "metadata": {},
     "output_type": "execute_result"
    }
   ],
   "source": [
    "normalized_user_ratings_df.head()"
   ]
  },
  {
   "cell_type": "markdown",
   "metadata": {},
   "source": [
    "## Model Selection"
   ]
  },
  {
   "cell_type": "markdown",
   "metadata": {},
   "source": [
    "Several different models are tested against each of the datasets created above. The model with the lowest RMSE is selected for additional tuning. "
   ]
  },
  {
   "cell_type": "code",
   "execution_count": 33,
   "metadata": {},
   "outputs": [],
   "source": [
    "def surprise_df(data):\n",
    "    \n",
    "    scale = (data.estimator.min(), data.estimator.max())\n",
    "    reader = Reader(rating_scale=scale)\n",
    "\n",
    "    # The columns must correspond to user id, item id and ratings (in that order).\n",
    "    df = Dataset.load_from_df(data[['customer_unique_id','productId','estimator']], reader)\n",
    "    \n",
    "    return df\n",
    "\n",
    "# Split data into 5 kfolds\n",
    "kf = KFold(n_splits=5, shuffle=True, random_state=19)\n",
    "\n",
    "# Helper function to test different types of collaborative filtering\n",
    "def model_framework(train_data):\n",
    "    \n",
    "    test_df = surprise_df(train_data)\n",
    "    \n",
    "    normp_rmse, svd_rmse, knn_rmse, co_rmse, slope_rmse = [], [], [], [], []\n",
    "\n",
    "    for trainset, testset in kf.split(test_df): #iterate through the folds.\n",
    "        \n",
    "        #baseline\n",
    "        normp = NormalPredictor()\n",
    "        normp.fit(trainset)\n",
    "        normp_pred = normp.test(testset)\n",
    "        normp_rmse.append(accuracy.rmse(normp_pred,verbose=False))\n",
    "        \n",
    "        #svd\n",
    "        svd = SVD(n_factors=30, n_epochs=50,biased=True, lr_all=0.005, reg_all=0.4, verbose=False)\n",
    "        svd.fit(trainset)\n",
    "        svd_pred = svd.test(testset)\n",
    "        svd_rmse.append(accuracy.rmse(svd_pred,verbose=False))\n",
    "        \n",
    "        #knn\n",
    "        knn = KNNBasic(k=40,sim_options={'name': 'cosine', 'user_based': False}, verbose=False) \n",
    "        knn.fit(trainset)\n",
    "        knn_pred = knn.test(testset)\n",
    "        knn_rmse.append(accuracy.rmse(knn_pred,verbose=False))\n",
    "        \n",
    "        #co_clustering\n",
    "        co = CoClustering(n_cltr_u=3,n_cltr_i=3,n_epochs=20)         \n",
    "        co.fit(trainset)\n",
    "        co_pred = co.test(testset)\n",
    "        co_rmse.append(accuracy.rmse(co_pred,verbose=False))\n",
    "        \n",
    "        #slope_one\n",
    "        slope = SlopeOne() \n",
    "        slope.fit(trainset)\n",
    "        slope_pred = slope.test(testset)\n",
    "        slope_rmse.append(accuracy.rmse(slope_pred,verbose=False))\n",
    "    \n",
    "    mean_rmses = [np.mean(normp_rmse),\n",
    "                  np.mean(svd_rmse),\n",
    "                  np.mean(knn_rmse),\n",
    "                  np.mean(co_rmse),\n",
    "                  np.mean(slope_rmse)]\n",
    "    \n",
    "    model_names = ['baseline', 'svd','knn','coclustering','slopeone']\n",
    "    compare_df = pd.DataFrame(mean_rmses, index=model_names)\n",
    "    \n",
    "    return compare_df"
   ]
  },
  {
   "cell_type": "code",
   "execution_count": 34,
   "metadata": {},
   "outputs": [],
   "source": [
    "def model_comparison(all_methods):\n",
    "    comp_matrix = model_framework(all_methods[0]).transpose()\n",
    "    print('Initial dataframe created.')\n",
    "    \n",
    "    for method in all_methods[1:]:\n",
    "        temp_df = model_framework(method).transpose()\n",
    "        comp_matrix = pd.concat((comp_matrix,temp_df), axis=0)\n",
    "        print(\"Layer added to dataframe.\")\n",
    "        \n",
    "    comp_matrix = comp_matrix.set_index([['purchase_count', \n",
    "                                       'dummy',\n",
    "                                       'norm_purchase_count', \n",
    "                                       'user_ratings', \n",
    "                                       'norm_user_ratings']])\n",
    "    \n",
    "    return comp_matrix\n",
    "    "
   ]
  },
  {
   "cell_type": "code",
   "execution_count": 35,
   "metadata": {},
   "outputs": [],
   "source": [
    "all_methods = [purchase_count_df, dummy_df, normalized_purchase_count_df, user_ratings_df, normalized_user_ratings_df]"
   ]
  },
  {
   "cell_type": "code",
   "execution_count": 36,
   "metadata": {},
   "outputs": [
    {
     "name": "stdout",
     "output_type": "stream",
     "text": [
      "Initial dataframe created.\n",
      "Layer added to dataframe.\n"
     ]
    },
    {
     "name": "stderr",
     "output_type": "stream",
     "text": [
      "/Users/sahajchawla/opt/anaconda3/lib/python3.8/site-packages/surprise/prediction_algorithms/algo_base.py:249: RuntimeWarning: invalid value encountered in double_scalars\n",
      "  sim = construction_func[name](*args)\n"
     ]
    },
    {
     "name": "stdout",
     "output_type": "stream",
     "text": [
      "Layer added to dataframe.\n",
      "Layer added to dataframe.\n",
      "Layer added to dataframe.\n"
     ]
    }
   ],
   "source": [
    "comparison_matrix = model_comparison(all_methods)"
   ]
  },
  {
   "cell_type": "code",
   "execution_count": 37,
   "metadata": {},
   "outputs": [
    {
     "data": {
      "text/html": [
       "<div>\n",
       "<style scoped>\n",
       "    .dataframe tbody tr th:only-of-type {\n",
       "        vertical-align: middle;\n",
       "    }\n",
       "\n",
       "    .dataframe tbody tr th {\n",
       "        vertical-align: top;\n",
       "    }\n",
       "\n",
       "    .dataframe thead th {\n",
       "        text-align: right;\n",
       "    }\n",
       "</style>\n",
       "<table border=\"1\" class=\"dataframe\">\n",
       "  <thead>\n",
       "    <tr style=\"text-align: right;\">\n",
       "      <th></th>\n",
       "      <th>baseline</th>\n",
       "      <th>svd</th>\n",
       "      <th>knn</th>\n",
       "      <th>coclustering</th>\n",
       "      <th>slopeone</th>\n",
       "      <th>best_score</th>\n",
       "      <th>method_comparison</th>\n",
       "    </tr>\n",
       "  </thead>\n",
       "  <tbody>\n",
       "    <tr>\n",
       "      <th>purchase_count</th>\n",
       "      <td>1.665097</td>\n",
       "      <td>1.250363</td>\n",
       "      <td>1.302347</td>\n",
       "      <td>1.339551</td>\n",
       "      <td>1.267358</td>\n",
       "      <td>1.250363</td>\n",
       "      <td>24.907466</td>\n",
       "    </tr>\n",
       "    <tr>\n",
       "      <th>dummy</th>\n",
       "      <td>0.000000</td>\n",
       "      <td>0.000000</td>\n",
       "      <td>0.000000</td>\n",
       "      <td>0.000000</td>\n",
       "      <td>0.000000</td>\n",
       "      <td>0.000000</td>\n",
       "      <td>NaN</td>\n",
       "    </tr>\n",
       "    <tr>\n",
       "      <th>norm_purchase_count</th>\n",
       "      <td>0.547431</td>\n",
       "      <td>0.445946</td>\n",
       "      <td>0.433331</td>\n",
       "      <td>0.442706</td>\n",
       "      <td>0.422878</td>\n",
       "      <td>0.422878</td>\n",
       "      <td>22.752314</td>\n",
       "    </tr>\n",
       "    <tr>\n",
       "      <th>user_ratings</th>\n",
       "      <td>1.988646</td>\n",
       "      <td>1.432631</td>\n",
       "      <td>1.515715</td>\n",
       "      <td>1.488730</td>\n",
       "      <td>1.412570</td>\n",
       "      <td>1.412570</td>\n",
       "      <td>28.968249</td>\n",
       "    </tr>\n",
       "    <tr>\n",
       "      <th>norm_user_ratings</th>\n",
       "      <td>0.563129</td>\n",
       "      <td>0.458886</td>\n",
       "      <td>0.431961</td>\n",
       "      <td>0.449126</td>\n",
       "      <td>0.417671</td>\n",
       "      <td>0.417671</td>\n",
       "      <td>25.830393</td>\n",
       "    </tr>\n",
       "  </tbody>\n",
       "</table>\n",
       "</div>"
      ],
      "text/plain": [
       "                     baseline       svd       knn  coclustering  slopeone  \\\n",
       "purchase_count       1.665097  1.250363  1.302347      1.339551  1.267358   \n",
       "dummy                0.000000  0.000000  0.000000      0.000000  0.000000   \n",
       "norm_purchase_count  0.547431  0.445946  0.433331      0.442706  0.422878   \n",
       "user_ratings         1.988646  1.432631  1.515715      1.488730  1.412570   \n",
       "norm_user_ratings    0.563129  0.458886  0.431961      0.449126  0.417671   \n",
       "\n",
       "                     best_score  method_comparison  \n",
       "purchase_count         1.250363          24.907466  \n",
       "dummy                  0.000000                NaN  \n",
       "norm_purchase_count    0.422878          22.752314  \n",
       "user_ratings           1.412570          28.968249  \n",
       "norm_user_ratings      0.417671          25.830393  "
      ]
     },
     "execution_count": 37,
     "metadata": {},
     "output_type": "execute_result"
    }
   ],
   "source": [
    "# create a column to indicate percentage better performance than baseline so that \n",
    "# centered and non-centered datasets can be compared\n",
    "comparison_matrix['best_score'] = comparison_matrix.min(axis=1)\n",
    "comparison_matrix['method_comparison'] = 100*(1-(comparison_matrix.best_score/comparison_matrix.baseline)) \n",
    "comparison_matrix"
   ]
  },
  {
   "cell_type": "markdown",
   "metadata": {},
   "source": [
    "Best performer was the user ratings matrix. Although slopeone performed best, svd will be explored using grid search to tune hyperparameters."
   ]
  },
  {
   "cell_type": "markdown",
   "metadata": {},
   "source": [
    "## Tuning Winning Model (SVD)"
   ]
  },
  {
   "cell_type": "markdown",
   "metadata": {},
   "source": [
    "For the final model, will continue to leverage the user rating matrix as it requires minimal computational expense and maximum variance."
   ]
  },
  {
   "cell_type": "markdown",
   "metadata": {},
   "source": [
    "### Gridsearch"
   ]
  },
  {
   "cell_type": "code",
   "execution_count": 38,
   "metadata": {},
   "outputs": [],
   "source": [
    "def gridsearch(data, model, param_grid):\n",
    "    param_grid = param_grid\n",
    "    gs = GridSearchCV(model, param_grid, measures=['rmse'], cv=5)\n",
    "    gs.fit(data)\n",
    "    \n",
    "    new_params = gs.best_params['rmse']\n",
    "    best_score = gs.best_score['rmse']\n",
    "    \n",
    "    print(\"Best score:\", best_score)\n",
    "    print(\"Best params:\", new_params)\n",
    "    \n",
    "    return new_params, best_score"
   ]
  },
  {
   "cell_type": "code",
   "execution_count": 39,
   "metadata": {},
   "outputs": [
    {
     "name": "stdout",
     "output_type": "stream",
     "text": [
      "Best score: 1.385264537543761\n",
      "Best params: {'n_factors': 25, 'n_epochs': 50, 'lr_all': 0.01, 'reg_all': 0.1}\n"
     ]
    }
   ],
   "source": [
    "# standard svd gridsearch\n",
    "data = surprise_df(user_ratings_df)\n",
    "\n",
    "svd_param_grid = {'n_factors': [25, 50,100],'n_epochs': [20,30,50], 'lr_all': [0.002,0.005,0.01],\n",
    "              'reg_all':[0.02,0.1, 0.4]}\n",
    "\n",
    "svd_params, svd_score = gridsearch(data, SVD, svd_param_grid)"
   ]
  },
  {
   "cell_type": "code",
   "execution_count": 40,
   "metadata": {},
   "outputs": [
    {
     "name": "stdout",
     "output_type": "stream",
     "text": [
      "Best score: 1.3804619055873713\n",
      "Best params: {'n_factors': 10, 'n_epochs': 50, 'lr_all': 0.01, 'reg_all': 0.1}\n"
     ]
    }
   ],
   "source": [
    "# svdpp gridsearch\n",
    "\n",
    "svdpp_param_grid = {'n_factors': [10, 20, 50],'n_epochs': [20,30,50], 'lr_all': [0.002,0.007,0.01],\n",
    "              'reg_all':[0.02,0.1, 0.4]}\n",
    "\n",
    "svdpp_params, svdpp_score = gridsearch(data, SVDpp, svdpp_param_grid)"
   ]
  },
  {
   "cell_type": "markdown",
   "metadata": {},
   "source": [
    "### Comparing Standard SVD and Funk's SVD"
   ]
  },
  {
   "cell_type": "code",
   "execution_count": 41,
   "metadata": {},
   "outputs": [],
   "source": [
    "def svd_model(data, model_list, model_names):\n",
    "    all_scores = []\n",
    "    \n",
    "    for model in model_list:\n",
    "        model_rmse = []\n",
    "        model_mae = []\n",
    "        \n",
    "        for trainset, testset in kf.split(data): #iterate through the folds.\n",
    "\n",
    "            mod = model\n",
    "            mod.fit(trainset)\n",
    "            pred = mod.test(testset)\n",
    "            model_rmse.append(accuracy.rmse(pred,verbose=False))\n",
    "            model_mae.append(accuracy.mae(pred,verbose=False))\n",
    "            \n",
    "        all_scores.append([np.mean(model_rmse), np.mean(model_mae)])\n",
    "    \n",
    "    results = pd.DataFrame(all_scores, index=model_names, columns=['rmse','mae'])\n",
    "    \n",
    "    return results  "
   ]
  },
  {
   "cell_type": "code",
   "execution_count": 42,
   "metadata": {},
   "outputs": [],
   "source": [
    "def svd_comparisons():\n",
    "    # For comparison, baseline model\n",
    "    random = NormalPredictor()\n",
    "\n",
    "    # Standard SVD models\n",
    "    tuned_svd = SVD(n_factors=svd_params['n_factors'], \n",
    "                    n_epochs=svd_params['n_epochs'],\n",
    "                    lr_all=svd_params['lr_all'], \n",
    "                    reg_all=svd_params['reg_all'])\n",
    "\n",
    "    standard_svd = SVD()\n",
    "\n",
    "    # SVDpp moddels\n",
    "    tuned_svdpp = SVDpp(n_factors=svdpp_params['n_factors'], \n",
    "                        n_epochs=svdpp_params['n_epochs'],\n",
    "                        lr_all=svdpp_params['lr_all'], \n",
    "                        reg_all=svdpp_params['reg_all'])\n",
    "\n",
    "    standard_svdpp = SVDpp()\n",
    "\n",
    "\n",
    "    model_list = [random, tuned_svd, standard_svd, tuned_svdpp, standard_svdpp]\n",
    "    model_names = ['random','tuned_svd','standard_svd','tuned_svdpp','standard_svdpp']\n",
    "\n",
    "    return svd_model(data, model_list, model_names)"
   ]
  },
  {
   "cell_type": "code",
   "execution_count": 43,
   "metadata": {},
   "outputs": [
    {
     "data": {
      "text/html": [
       "<div>\n",
       "<style scoped>\n",
       "    .dataframe tbody tr th:only-of-type {\n",
       "        vertical-align: middle;\n",
       "    }\n",
       "\n",
       "    .dataframe tbody tr th {\n",
       "        vertical-align: top;\n",
       "    }\n",
       "\n",
       "    .dataframe thead th {\n",
       "        text-align: right;\n",
       "    }\n",
       "</style>\n",
       "<table border=\"1\" class=\"dataframe\">\n",
       "  <thead>\n",
       "    <tr style=\"text-align: right;\">\n",
       "      <th></th>\n",
       "      <th>rmse</th>\n",
       "      <th>mae</th>\n",
       "    </tr>\n",
       "  </thead>\n",
       "  <tbody>\n",
       "    <tr>\n",
       "      <th>random</th>\n",
       "      <td>1.992077</td>\n",
       "      <td>1.576848</td>\n",
       "    </tr>\n",
       "    <tr>\n",
       "      <th>tuned_svd</th>\n",
       "      <td>1.386400</td>\n",
       "      <td>1.164232</td>\n",
       "    </tr>\n",
       "    <tr>\n",
       "      <th>standard_svd</th>\n",
       "      <td>1.489781</td>\n",
       "      <td>1.284721</td>\n",
       "    </tr>\n",
       "    <tr>\n",
       "      <th>tuned_svdpp</th>\n",
       "      <td>1.381527</td>\n",
       "      <td>1.158645</td>\n",
       "    </tr>\n",
       "    <tr>\n",
       "      <th>standard_svdpp</th>\n",
       "      <td>1.467501</td>\n",
       "      <td>1.261118</td>\n",
       "    </tr>\n",
       "  </tbody>\n",
       "</table>\n",
       "</div>"
      ],
      "text/plain": [
       "                    rmse       mae\n",
       "random          1.992077  1.576848\n",
       "tuned_svd       1.386400  1.164232\n",
       "standard_svd    1.489781  1.284721\n",
       "tuned_svdpp     1.381527  1.158645\n",
       "standard_svdpp  1.467501  1.261118"
      ]
     },
     "execution_count": 43,
     "metadata": {},
     "output_type": "execute_result"
    }
   ],
   "source": [
    "svd_comparison_df = svd_comparisons()\n",
    "svd_comparison_df"
   ]
  },
  {
   "cell_type": "code",
   "execution_count": 44,
   "metadata": {},
   "outputs": [
    {
     "name": "stdout",
     "output_type": "stream",
     "text": [
      "Tuned SVDpp performed 30.648932413712117 better than baseline.\n"
     ]
    }
   ],
   "source": [
    "svdpp_performance = 100*(1-(svd_comparison_df.loc['tuned_svdpp', 'rmse'] / svd_comparison_df.loc['random', 'rmse']))\n",
    "print(f\"Tuned SVDpp performed {svdpp_performance} better than baseline.\")"
   ]
  },
  {
   "cell_type": "markdown",
   "metadata": {},
   "source": [
    "## Final Repeat Customer Model"
   ]
  },
  {
   "cell_type": "code",
   "execution_count": 45,
   "metadata": {},
   "outputs": [],
   "source": [
    "def create_user_ratings_df(data):\n",
    "    \"\"\"Takes in a dataset and aggregates the review score for each product within each\n",
    "    customer_unique_id.\"\"\"\n",
    "    user_prod_reviewscore_data = data.groupby(['customer_unique_id','product_id']\n",
    "                                             )['review_score'].agg(['mean']).reset_index()\n",
    "    \n",
    "    user_prod_reviewscore_data = user_prod_reviewscore_data.rename({'mean':'estimator', 'product_id':'productId'}, \n",
    "                                                                   axis=1)\n",
    "        \n",
    "    return user_prod_reviewscore_data\n",
    "\n",
    "def surprise_df(data):\n",
    "    \n",
    "    scale = (data.estimator.min(), data.estimator.max())\n",
    "    reader = Reader(rating_scale=scale)\n",
    "\n",
    "    # The columns must correspond to user id, item id and ratings (in that order).\n",
    "    df = Dataset.load_from_df(data[['customer_unique_id','productId','estimator']], reader)\n",
    "    \n",
    "    return df\n",
    "\n"
   ]
  },
  {
   "cell_type": "code",
   "execution_count": 46,
   "metadata": {},
   "outputs": [],
   "source": [
    "def final_model(data):\n",
    "    user_product_df = create_user_ratings_df(data)\n",
    "    user_ratings_matrix = surprise_df(user_product_df)\n",
    "    \n",
    "    train_set, test_set = train_test_split(user_ratings_matrix, test_size=0.2, random_state=19)\n",
    "    \n",
    "    params = {'n_factors': 10, 'n_epochs': 50, 'lr_all': 0.01, 'reg_all': 0.1} \n",
    "    svdpp = SVDpp(n_factors=params['n_factors'], \n",
    "                    n_epochs=params['n_epochs'],\n",
    "                    lr_all=params['lr_all'], \n",
    "                    reg_all=params['reg_all'])\n",
    "    svdpp.fit(train_set)\n",
    "    predictions = svdpp.test(test_set)\n",
    "    rmse = accuracy.rmse(predictions,verbose=False)\n",
    "            \n",
    "    return predictions, rmse, train_set\n",
    "    \n",
    "final_predictions, final_rmse, train_set = final_model(repeater_data)"
   ]
  },
  {
   "cell_type": "code",
   "execution_count": 47,
   "metadata": {},
   "outputs": [],
   "source": [
    "# Let's build a pandas dataframe with all the predictions\n",
    "\n",
    "def get_Iu(uid):\n",
    "    \"\"\"Return the number of items rated by given user\n",
    "    \n",
    "    Args:\n",
    "        uid: The raw id of the user.\n",
    "    Returns:\n",
    "        The number of items rated by the user.\n",
    "    \"\"\"\n",
    "    \n",
    "    try:\n",
    "        return len(train_set.ur[train_set.to_inner_uid(uid)])\n",
    "    except ValueError:  # user was not part of the trainset\n",
    "        return 0\n",
    "    \n",
    "def get_Ui(iid):\n",
    "    \"\"\"Return the number of users that have rated given item\n",
    "    \n",
    "    Args:\n",
    "        iid: The raw id of the item.\n",
    "    Returns:\n",
    "        The number of users that have rated the item.\n",
    "    \"\"\"\n",
    "    \n",
    "    try:\n",
    "        return len(train_set.ir[train_set.to_inner_iid(iid)])\n",
    "    except ValueError:  # item was not part of the trainset\n",
    "        return 0\n",
    "\n",
    "recommendation_results = pd.DataFrame(final_predictions, columns=['uid', 'iid', 'rui', 'est', 'details'])    \n",
    "recommendation_results['Iu'] = recommendation_results.uid.apply(get_Iu)\n",
    "recommendation_results['Ui'] = recommendation_results.iid.apply(get_Ui)\n",
    "recommendation_results['err'] = abs(recommendation_results.est - recommendation_results.rui)"
   ]
  },
  {
   "cell_type": "code",
   "execution_count": 48,
   "metadata": {},
   "outputs": [],
   "source": [
    "best_predictions = recommendation_results.sort_values(by='err')[:10]\n",
    "worst_predictions = recommendation_results.sort_values(by='err')[-10:]"
   ]
  },
  {
   "cell_type": "code",
   "execution_count": 50,
   "metadata": {},
   "outputs": [
    {
     "data": {
      "image/png": "[encoded data removed]",
      "text/plain": [
       "<Figure size 864x360 with 1 Axes>"
      ]
     },
     "metadata": {
      "needs_background": "light"
     },
     "output_type": "display_data"
    }
   ],
   "source": [
    "# plot model error\n",
    "plt.figure(figsize=(12,5))\n",
    "plt.hist(recommendation_results.err, bins=20)\n",
    "plt.xlabel('Error (RMSE)', size=16)\n",
    "plt.ylabel('Count', size=14)\n",
    "plt.title('Distorbution of Recommender Errors', size=14)\n",
    "sns.despine();"
   ]
  },
  {
   "cell_type": "code",
   "execution_count": 51,
   "metadata": {},
   "outputs": [
    {
     "name": "stdout",
     "output_type": "stream",
     "text": [
      "Overall recommendation system mean error: 1.1540043289997577\n",
      "Mean error for products where user rates above 3: 0.891289026400391\n",
      "Mean error for products where user rates below 3: 1.6834011609091917\n"
     ]
    }
   ],
   "source": [
    "def means_per_rating_group(dataset):\n",
    "    real_over_three = dataset[dataset.rui > 3].err\n",
    "    real_three_under = dataset[dataset.rui <= 3].err\n",
    "    \n",
    "    print(\"Overall recommendation system mean error:\", dataset.err.mean())\n",
    "    print(\"Mean error for products where user rates above 3:\", real_over_three.mean())\n",
    "    print(\"Mean error for products where user rates below 3:\", real_three_under.mean())\n",
    "    \n",
    "    return real_over_three, real_three_under\n",
    "\n",
    "real_over_three, real_three_under = means_per_rating_group(recommendation_results)"
   ]
  },
  {
   "cell_type": "code",
   "execution_count": 53,
   "metadata": {
    "scrolled": true
   },
   "outputs": [
    {
     "data": {
      "image/png": "[encoded data removed]",
      "text/plain": [
       "<Figure size 864x360 with 1 Axes>"
      ]
     },
     "metadata": {
      "needs_background": "light"
     },
     "output_type": "display_data"
    }
   ],
   "source": [
    "# plot the recommendation system mean for users who rate products higher than 3 and lower than 3\n",
    "plt.figure(figsize=(12,5))\n",
    "plt.hist(real_over_three, bins=20, label='Actual Rating >3')\n",
    "plt.hist(real_three_under, bins=20, alpha=.8, label='Actual Rating <=3')\n",
    "plt.xlabel('Error (RMSE)', size=16)\n",
    "plt.ylabel('Count', size=14)\n",
    "plt.title('Distorbution of Recommender Errors', size=14)\n",
    "sns.despine();"
   ]
  },
  {
   "cell_type": "markdown",
   "metadata": {},
   "source": [
    "# First Time Users"
   ]
  },
  {
   "cell_type": "markdown",
   "metadata": {},
   "source": [
    "First time users are provided a recommendation of hot products on the site as well as popular in your area."
   ]
  },
  {
   "cell_type": "code",
   "execution_count": 54,
   "metadata": {},
   "outputs": [],
   "source": [
    "def find_popular_items(data, n_recs):\n",
    "    top_n_items = data.product_id.value_counts().sort_values(ascending=False)[:n_recs].index\n",
    "    return list(top_n_items)"
   ]
  },
  {
   "cell_type": "code",
   "execution_count": 55,
   "metadata": {},
   "outputs": [],
   "source": [
    "def popular_in_your_area(data, state, n_recs):\n",
    "    location_df = data[data.customer_state == state]\n",
    "    top_n_items = location_df.product_id.value_counts().sort_values(ascending=False)[:n_recs].index\n",
    "    return list(top_n_items)"
   ]
  },
  {
   "cell_type": "code",
   "execution_count": 56,
   "metadata": {},
   "outputs": [],
   "source": [
    "def first_time_recommender(data, uid, n_recs):\n",
    "    hot_items = find_popular_items(data, n_recs)\n",
    "    state = data[data.customer_unique_id==uid].customer_state.max()\n",
    "    popular_in_area = popular_in_your_area(data, state, n_recs)\n",
    "    \n",
    "    print(f\"Hot items you might like:\\n {hot_items}\\n\")\n",
    "    print(f\"Popular items in your area:\\n {popular_in_area}\")\n",
    "    \n",
    "    recommendation = {'Hot Items': hot_items, 'Area': popular_in_area}\n",
    "    \n",
    "    return recommendation"
   ]
  },
  {
   "cell_type": "code",
   "execution_count": 57,
   "metadata": {},
   "outputs": [
    {
     "name": "stdout",
     "output_type": "stream",
     "text": [
      "Hot items you might like:\n",
      " ['aca2eb7d00ea1a7b8ebd4e68314663af', '99a4788cb24856965c36a24e339b6058', '422879e10f46682990de24d770e7f83d']\n",
      "\n",
      "Popular items in your area:\n",
      " ['aca2eb7d00ea1a7b8ebd4e68314663af', '99a4788cb24856965c36a24e339b6058', '422879e10f46682990de24d770e7f83d']\n"
     ]
    }
   ],
   "source": [
    "# Example Recommendation\n",
    "recommendation = first_time_recommender(full_df, 'c71a196d46a70ec611f3922db5755d1d', 3)"
   ]
  },
  {
   "cell_type": "code",
   "execution_count": null,
   "metadata": {},
   "outputs": [],
   "source": []
  }
 ],
 "metadata": {
  "kernelspec": {
   "display_name": "Python 3",
   "language": "python",
   "name": "python3"
  },
  "language_info": {
   "codemirror_mode": {
    "name": "ipython",
    "version": 3
   },
   "file_extension": ".py",
   "mimetype": "text/x-python",
   "name": "python",
   "nbconvert_exporter": "python",
   "pygments_lexer": "ipython3",
   "version": "3.8.3"
  },
  "toc": {
   "base_numbering": 1,
   "nav_menu": {},
   "number_sections": true,
   "sideBar": true,
   "skip_h1_title": false,
   "title_cell": "Table of Contents",
   "title_sidebar": "Contents",
   "toc_cell": false,
   "toc_position": {
    "height": "calc(100% - 180px)",
    "left": "10px",
    "top": "150px",
    "width": "165px"
   },
   "toc_section_display": true,
   "toc_window_display": true
  }
 },
 "nbformat": 4,
 "nbformat_minor": 2
}
