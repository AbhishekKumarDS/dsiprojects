{
 "cells": [
  {
   "cell_type": "markdown",
   "metadata": {},
   "source": [
    "# Project 3: Webscraping, NLP and classification modelling"
   ]
  },
  {
   "cell_type": "markdown",
   "metadata": {},
   "source": [
    "# Contents:\n",
    "\n",
    "1) Fresh reddit pull  \n",
    "2) New DF pre-processing  "
   ]
  },
  {
   "cell_type": "code",
   "execution_count": 32,
   "metadata": {},
   "outputs": [],
   "source": [
    "# library imports\n",
    "import requests\n",
    "import time\n",
    "import pandas as pd\n",
    "import numpy as np\n",
    "import ast\n",
    "import re\n",
    "from tqdm import tqdm\n",
    "\n",
    "# preprocessing imports\n",
    "from nltk.tokenize import RegexpTokenizer\n",
    "from nltk.stem import WordNetLemmatizer\n",
    "from nltk.stem.porter import PorterStemmer\n",
    "from sklearn.feature_extraction.text import TfidfVectorizer, CountVectorizer\n",
    "from nltk.corpus import stopwords \n"
   ]
  },
  {
   "cell_type": "code",
   "execution_count": 2,
   "metadata": {},
   "outputs": [],
   "source": [
    "# create header parameter for API\n",
    "headers_dict = {'User-agent':'hello-reddit-i-am-still-totally-not-a-bot'}"
   ]
  },
  {
   "cell_type": "code",
   "execution_count": 4,
   "metadata": {},
   "outputs": [
    {
     "name": "stdout",
     "output_type": "stream",
     "text": [
      "0 200\n",
      "sub1_pages length:  1\n",
      "sub01_after:  t3_jugbhz\n",
      "0 200\n",
      "sub2_pages length:  1\n",
      "sub2_after:  t3_jnz4ft\n",
      "https://reddit.com/r/talesfromcallcenters.json?limit=100&after=t3_jugbhz\n",
      "https://reddit.com/r/talesfromtechsupport.json?limit=100&after=t3_jnz4ft\n",
      "1 200\n",
      "sub1_pages length:  2\n",
      "sub01_after:  t3_jh4zah\n",
      "1 200\n",
      "sub2_pages length:  2\n",
      "sub2_after:  t3_j7tcft\n",
      "https://reddit.com/r/talesfromcallcenters.json?limit=100&after=t3_jh4zah\n",
      "https://reddit.com/r/talesfromtechsupport.json?limit=100&after=t3_j7tcft\n",
      "2 200\n",
      "sub1_pages length:  3\n",
      "sub01_after:  t3_j6atup\n",
      "2 200\n",
      "sub2_pages length:  3\n",
      "sub2_after:  t3_it4p2o\n",
      "https://reddit.com/r/talesfromcallcenters.json?limit=100&after=t3_j6atup\n",
      "https://reddit.com/r/talesfromtechsupport.json?limit=100&after=t3_it4p2o\n",
      "3 200\n",
      "sub1_pages length:  4\n",
      "sub01_after:  t3_iw3exa\n",
      "3 200\n",
      "sub2_pages length:  4\n",
      "sub2_after:  t3_ie9ne4\n"
     ]
    }
   ],
   "source": [
    "# instantiate API variables\n",
    "url = 'https://reddit.com/'\n",
    "sub1_url = url + 'r/talesfromcallcenters'           # setting sub1 \n",
    "sub2_url = url + 'r/talesfromtechsupport'        # setting sub2 \n",
    "\n",
    "limit_num = 100     # API 'limit' parameter\n",
    "\n",
    "sub1_after = None  # instantiate empty counters for API 'after' parameter\n",
    "sub2_after = None\n",
    "\n",
    "sub1_pages = []    # instantiate empty lists to save API results\n",
    "sub2_pages = []\n",
    "\n",
    "for i in range(4): # pull from API 4 times\n",
    "    \n",
    "    # add 'after' parameters if an id has been saved - starts as None\n",
    "    if sub1_after and sub2_after:\n",
    "        # create full API url for sub1\n",
    "        sub1_after_url = sub1_url + '.json?limit=' \\\n",
    "                            + str(limit_num) + '&after=' \\\n",
    "                            + sub1_after\n",
    "        print(sub1_after_url)\n",
    "        \n",
    "        # create full API url for sub2\n",
    "        sub2_after_url = sub2_url + '.json?limit=' \\\n",
    "                            + str(limit_num) + '&after=' \\\n",
    "                            + sub2_after\n",
    "        print(sub2_after_url)\n",
    "    \n",
    "    # if one after is logged and the other is not\n",
    "    elif bool(sub1_after) != bool(sub2_after):\n",
    "        print('After reference out of sync.')\n",
    "        break\n",
    "    \n",
    "    else:\n",
    "        # create first run url\n",
    "        sub1_after_url = sub1_url + '.json?limit=' + str(limit_num)\n",
    "        sub2_after_url = sub2_url + '.json?limit=' + str(limit_num)\n",
    "    \n",
    "    # pull json from sub1\n",
    "    sub1_res = requests.get(sub1_after_url, headers=headers_dict)\n",
    "    print(i, sub1_res.status_code)\n",
    "    \n",
    "    # if sub1 connection is established\n",
    "    if sub1_res.status_code == 200:\n",
    "        # add page to list\n",
    "        sub1_pages.append(sub1_res.json()['data'])\n",
    "        print('sub1_pages length: ', len(sub1_pages))\n",
    "        \n",
    "        # set 'after' parameter for next run\n",
    "        sub1_after = sub1_res.json()['data']['after']\n",
    "        print('sub01_after: ', sub1_after)\n",
    "        \n",
    "    else:        \n",
    "        print('Connection failed.\\n')\n",
    "    \n",
    "    # sleep one second\n",
    "    time.sleep(1)\n",
    "    \n",
    "    # pull json from sub2\n",
    "    sub2_res = requests.get(sub2_after_url, headers=headers_dict)\n",
    "    print(i, sub2_res.status_code)\n",
    "    \n",
    "    # if sub2 connection is established\n",
    "    if sub2_res.status_code == 200:\n",
    "        # add page to list\n",
    "        sub2_pages.append(sub2_res.json()['data'])\n",
    "        print('sub2_pages length: ', len(sub2_pages))\n",
    "        \n",
    "        # set 'after' parameter for next run\n",
    "        sub2_after = sub2_res.json()['data']['after']\n",
    "        print('sub2_after: ', sub2_after)\n",
    "    else:\n",
    "        print('Connection failed.\\n')\n",
    "        \n",
    "    # sleep 2 seconds    \n",
    "    time.sleep(2)"
   ]
  },
  {
   "cell_type": "code",
   "execution_count": 5,
   "metadata": {},
   "outputs": [],
   "source": [
    "# create DataFrames from posting lists\n",
    "test_sub1_df = pd.DataFrame(sub1_pages)\n",
    "test_sub2_df = pd.DataFrame(sub2_pages)"
   ]
  },
  {
   "cell_type": "code",
   "execution_count": 6,
   "metadata": {},
   "outputs": [],
   "source": [
    "# save API data to files\n",
    "test_sub1_df.to_csv('../datasets/sub1_scrape_4dec.csv', index=False)\n",
    "test_sub2_df.to_csv('../datasets/sub2_scrape_4dec.csv', index=False)"
   ]
  },
  {
   "cell_type": "markdown",
   "metadata": {},
   "source": [
    "# Checkpoint after scraping"
   ]
  },
  {
   "cell_type": "code",
   "execution_count": 10,
   "metadata": {},
   "outputs": [],
   "source": [
    "sub1_df = pd.read_csv('../datasets/sub1_scrape_4dec.csv')\n",
    "sub2_df = pd.read_csv('../datasets/sub2_scrape_4dec.csv')"
   ]
  },
  {
   "cell_type": "code",
   "execution_count": 11,
   "metadata": {},
   "outputs": [],
   "source": [
    "sub1_df['children'] = sub1_df.children.map(lambda x: ast.literal_eval(x))\n",
    "sub2_df['children'] = sub2_df.children.map(lambda x: ast.literal_eval(x))"
   ]
  },
  {
   "cell_type": "code",
   "execution_count": 12,
   "metadata": {},
   "outputs": [],
   "source": [
    "\n",
    "# save post dictionaries in arrays\n",
    "\n",
    "sub1 = sub1_df['children']\n",
    "sub2 = sub2_df['children']"
   ]
  },
  {
   "cell_type": "code",
   "execution_count": 13,
   "metadata": {},
   "outputs": [],
   "source": [
    "#create list of titles\n",
    "sub1_titles = [sub1[i][j]['data']['title'] for i in range(len(sub1))\n",
    "            for j in range(len(sub1[i]))]\n",
    "\n",
    "\n",
    "sub2_titles = [sub2[i][j]['data']['title'] for i in range(len(sub2)) \n",
    "            for j in range(len(sub2[i]))]"
   ]
  },
  {
   "cell_type": "code",
   "execution_count": 14,
   "metadata": {},
   "outputs": [],
   "source": [
    "# create list of post using nested comprehensions\n",
    "sub1_posts = [sub1[i][j]['data']['selftext'] for i in range(len(sub1)) \n",
    "            for j in range(len(sub1[i]))]\n",
    "\n",
    "sub2_posts = [sub2[i][j]['data']['selftext'] for i in range(len(sub2)) \n",
    "            for j in range(len(sub2[i]))]"
   ]
  },
  {
   "cell_type": "code",
   "execution_count": 15,
   "metadata": {},
   "outputs": [],
   "source": [
    "# create list of upvotes using nested comprehensions\n",
    "sub1_ups = [sub1[i][j]['data']['ups'] for i in range(len(sub1)) \n",
    "            for j in range(len(sub1[i]))]\n",
    "\n",
    "sub2_ups = [sub2[i][j]['data']['ups'] for i in range(len(sub2)) \n",
    "            for j in range(len(sub2[i]))]"
   ]
  },
  {
   "cell_type": "code",
   "execution_count": 16,
   "metadata": {},
   "outputs": [],
   "source": [
    "# create list of upvotes using nested comprehensions\n",
    "sub1_gilded = [sub1[i][j]['data']['gilded'] for i in range(len(sub1)) \n",
    "            for j in range(len(sub1[i]))]\n",
    "\n",
    "sub2_gilded = [sub2[i][j]['data']['gilded'] for i in range(len(sub2)) \n",
    "            for j in range(len(sub2[i]))]"
   ]
  },
  {
   "cell_type": "code",
   "execution_count": 17,
   "metadata": {},
   "outputs": [],
   "source": [
    "# compile lists into DataFrame\n",
    "sub1_df = pd.DataFrame([sub1_titles, sub1_posts, sub1_ups, sub1_gilded], index=['title','post','upvotes','gilded'])"
   ]
  },
  {
   "cell_type": "code",
   "execution_count": 18,
   "metadata": {},
   "outputs": [],
   "source": [
    "#transpose DF\n",
    "sub1_df = sub1_df.T"
   ]
  },
  {
   "cell_type": "code",
   "execution_count": 19,
   "metadata": {},
   "outputs": [
    {
     "data": {
      "text/html": [
       "<div>\n",
       "<style scoped>\n",
       "    .dataframe tbody tr th:only-of-type {\n",
       "        vertical-align: middle;\n",
       "    }\n",
       "\n",
       "    .dataframe tbody tr th {\n",
       "        vertical-align: top;\n",
       "    }\n",
       "\n",
       "    .dataframe thead th {\n",
       "        text-align: right;\n",
       "    }\n",
       "</style>\n",
       "<table border=\"1\" class=\"dataframe\">\n",
       "  <thead>\n",
       "    <tr style=\"text-align: right;\">\n",
       "      <th></th>\n",
       "      <th>title</th>\n",
       "      <th>post</th>\n",
       "      <th>upvotes</th>\n",
       "      <th>gilded</th>\n",
       "    </tr>\n",
       "  </thead>\n",
       "  <tbody>\n",
       "    <tr>\n",
       "      <th>0</th>\n",
       "      <td>Your Son is Seven and He's Getting WHAT?</td>\n",
       "      <td>So last night I had a very bizarre call from s...</td>\n",
       "      <td>412</td>\n",
       "      <td>0</td>\n",
       "    </tr>\n",
       "    <tr>\n",
       "      <th>1</th>\n",
       "      <td>No. You don’t get to speak to a manager.</td>\n",
       "      <td>So I had this call from a third party, which i...</td>\n",
       "      <td>755</td>\n",
       "      <td>0</td>\n",
       "    </tr>\n",
       "    <tr>\n",
       "      <th>2</th>\n",
       "      <td>I am losing faith in humanity!</td>\n",
       "      <td>Why people give their SSN and DOB to random pe...</td>\n",
       "      <td>18</td>\n",
       "      <td>0</td>\n",
       "    </tr>\n",
       "    <tr>\n",
       "      <th>3</th>\n",
       "      <td>Thanks for being Racist, Susan.</td>\n",
       "      <td>I am 50% white but I have an uncommon first na...</td>\n",
       "      <td>8</td>\n",
       "      <td>0</td>\n",
       "    </tr>\n",
       "    <tr>\n",
       "      <th>4</th>\n",
       "      <td>Let me vent to you about a dumb call I had today</td>\n",
       "      <td>So I am a team leader. We will call the custom...</td>\n",
       "      <td>5</td>\n",
       "      <td>0</td>\n",
       "    </tr>\n",
       "  </tbody>\n",
       "</table>\n",
       "</div>"
      ],
      "text/plain": [
       "                                              title  \\\n",
       "0          Your Son is Seven and He's Getting WHAT?   \n",
       "1          No. You don’t get to speak to a manager.   \n",
       "2                    I am losing faith in humanity!   \n",
       "3                   Thanks for being Racist, Susan.   \n",
       "4  Let me vent to you about a dumb call I had today   \n",
       "\n",
       "                                                post upvotes gilded  \n",
       "0  So last night I had a very bizarre call from s...     412      0  \n",
       "1  So I had this call from a third party, which i...     755      0  \n",
       "2  Why people give their SSN and DOB to random pe...      18      0  \n",
       "3  I am 50% white but I have an uncommon first na...       8      0  \n",
       "4  So I am a team leader. We will call the custom...       5      0  "
      ]
     },
     "execution_count": 19,
     "metadata": {},
     "output_type": "execute_result"
    }
   ],
   "source": [
    "sub1_df.head()"
   ]
  },
  {
   "cell_type": "code",
   "execution_count": 20,
   "metadata": {},
   "outputs": [],
   "source": [
    "# compile lists into DataFrame\n",
    "sub2_df = pd.DataFrame([sub2_titles, sub2_posts, sub2_ups, sub2_gilded], index=['title','post','upvotes', 'gilded'])"
   ]
  },
  {
   "cell_type": "code",
   "execution_count": 21,
   "metadata": {},
   "outputs": [],
   "source": [
    "#transpose DF\n",
    "sub2_df = sub2_df.T"
   ]
  },
  {
   "cell_type": "code",
   "execution_count": 22,
   "metadata": {},
   "outputs": [],
   "source": [
    "# binarize the classifier: 'belongs_to_sub2' \n",
    "sub1_df['belongs_to_sub2'] = 0\n",
    "sub2_df['belongs_to_sub2'] = 1"
   ]
  },
  {
   "cell_type": "code",
   "execution_count": 23,
   "metadata": {},
   "outputs": [],
   "source": [
    "sub1_df.to_csv('../datasets/sub1_df_4_dec.csv', index=False)\n",
    "sub2_df.to_csv('../datasets/sub2_df_4_dec.csv', index=False)"
   ]
  },
  {
   "cell_type": "code",
   "execution_count": 24,
   "metadata": {},
   "outputs": [],
   "source": [
    "#combine the two subs\n",
    "df = pd.concat([sub1_df, sub2_df])"
   ]
  },
  {
   "cell_type": "code",
   "execution_count": 25,
   "metadata": {},
   "outputs": [],
   "source": [
    "df.post.fillna(' ', inplace=True)"
   ]
  },
  {
   "cell_type": "code",
   "execution_count": 26,
   "metadata": {},
   "outputs": [],
   "source": [
    "df['title_x_post'] = df['title'] + ' ' + df['post']"
   ]
  },
  {
   "cell_type": "code",
   "execution_count": 27,
   "metadata": {},
   "outputs": [
    {
     "data": {
      "text/plain": [
       "1    401\n",
       "0    400\n",
       "Name: belongs_to_sub2, dtype: int64"
      ]
     },
     "execution_count": 27,
     "metadata": {},
     "output_type": "execute_result"
    }
   ],
   "source": [
    "df.belongs_to_sub2.value_counts()"
   ]
  },
  {
   "cell_type": "code",
   "execution_count": 28,
   "metadata": {},
   "outputs": [
    {
     "data": {
      "text/plain": [
       "1    0.500624\n",
       "0    0.499376\n",
       "Name: belongs_to_sub2, dtype: float64"
      ]
     },
     "execution_count": 28,
     "metadata": {},
     "output_type": "execute_result"
    }
   ],
   "source": [
    "#check distribution of target variable\n",
    "df.belongs_to_sub2.value_counts(normalize= True)"
   ]
  },
  {
   "cell_type": "code",
   "execution_count": 29,
   "metadata": {},
   "outputs": [],
   "source": [
    "#save new test data\n",
    "df.to_csv('../datasets/combined_test_4dec_df.csv', index=False)"
   ]
  },
  {
   "cell_type": "code",
   "execution_count": 33,
   "metadata": {},
   "outputs": [],
   "source": [
    "def preprocessing(raw_text):\n",
    "    \n",
    "    # 1. Convert to lowercase\n",
    "    lower_text = raw_text.lower()\n",
    "    \n",
    "    # 2. Remove punctuation\n",
    "    letters_only = re.sub(\"[^a-z]\",     # The pattern to search for\n",
    "                          \" \",          # The pattern to replace it with\n",
    "                          lower_text )  # The text to search\n",
    "    \n",
    "    # 3. Split and lemmatize words\n",
    "    words = letters_only.split()\n",
    "    lemmatizer = WordNetLemmatizer()\n",
    "    words_lem = [lemmatizer.lemmatize(i) for i in words]\n",
    "     \n",
    "    # 4. Remove stop words\n",
    "    stops = set(stopwords.words('english'))\n",
    "    meaningful_words = [w for w in words if w not in stops]\n",
    "\n",
    "    \n",
    "    # 5. Join the words back into one string separated by space, \n",
    "    # and return the result.\n",
    "    return (' '.join(meaningful_words))"
   ]
  },
  {
   "cell_type": "code",
   "execution_count": 34,
   "metadata": {},
   "outputs": [],
   "source": [
    "df['cleaned_text']=df['title_x_post'].map(preprocessing)"
   ]
  },
  {
   "cell_type": "code",
   "execution_count": 36,
   "metadata": {},
   "outputs": [
    {
     "data": {
      "text/html": [
       "<div>\n",
       "<style scoped>\n",
       "    .dataframe tbody tr th:only-of-type {\n",
       "        vertical-align: middle;\n",
       "    }\n",
       "\n",
       "    .dataframe tbody tr th {\n",
       "        vertical-align: top;\n",
       "    }\n",
       "\n",
       "    .dataframe thead th {\n",
       "        text-align: right;\n",
       "    }\n",
       "</style>\n",
       "<table border=\"1\" class=\"dataframe\">\n",
       "  <thead>\n",
       "    <tr style=\"text-align: right;\">\n",
       "      <th></th>\n",
       "      <th>title</th>\n",
       "      <th>post</th>\n",
       "      <th>upvotes</th>\n",
       "      <th>gilded</th>\n",
       "      <th>belongs_to_sub2</th>\n",
       "      <th>title_x_post</th>\n",
       "      <th>cleaned_text</th>\n",
       "    </tr>\n",
       "  </thead>\n",
       "  <tbody>\n",
       "    <tr>\n",
       "      <th>0</th>\n",
       "      <td>Your Son is Seven and He's Getting WHAT?</td>\n",
       "      <td>So last night I had a very bizarre call from s...</td>\n",
       "      <td>412</td>\n",
       "      <td>0</td>\n",
       "      <td>0</td>\n",
       "      <td>Your Son is Seven and He's Getting WHAT? So la...</td>\n",
       "      <td>son seven getting last night bizarre call some...</td>\n",
       "    </tr>\n",
       "    <tr>\n",
       "      <th>1</th>\n",
       "      <td>No. You don’t get to speak to a manager.</td>\n",
       "      <td>So I had this call from a third party, which i...</td>\n",
       "      <td>755</td>\n",
       "      <td>0</td>\n",
       "      <td>0</td>\n",
       "      <td>No. You don’t get to speak to a manager. So I ...</td>\n",
       "      <td>get speak manager call third party nothing new...</td>\n",
       "    </tr>\n",
       "    <tr>\n",
       "      <th>2</th>\n",
       "      <td>I am losing faith in humanity!</td>\n",
       "      <td>Why people give their SSN and DOB to random pe...</td>\n",
       "      <td>18</td>\n",
       "      <td>0</td>\n",
       "      <td>0</td>\n",
       "      <td>I am losing faith in humanity! Why people give...</td>\n",
       "      <td>losing faith humanity people give ssn dob rand...</td>\n",
       "    </tr>\n",
       "    <tr>\n",
       "      <th>3</th>\n",
       "      <td>Thanks for being Racist, Susan.</td>\n",
       "      <td>I am 50% white but I have an uncommon first na...</td>\n",
       "      <td>8</td>\n",
       "      <td>0</td>\n",
       "      <td>0</td>\n",
       "      <td>Thanks for being Racist, Susan. I am 50% white...</td>\n",
       "      <td>thanks racist susan white uncommon first name ...</td>\n",
       "    </tr>\n",
       "    <tr>\n",
       "      <th>4</th>\n",
       "      <td>Let me vent to you about a dumb call I had today</td>\n",
       "      <td>So I am a team leader. We will call the custom...</td>\n",
       "      <td>5</td>\n",
       "      <td>0</td>\n",
       "      <td>0</td>\n",
       "      <td>Let me vent to you about a dumb call I had tod...</td>\n",
       "      <td>let vent dumb call today team leader call cust...</td>\n",
       "    </tr>\n",
       "  </tbody>\n",
       "</table>\n",
       "</div>"
      ],
      "text/plain": [
       "                                              title  \\\n",
       "0          Your Son is Seven and He's Getting WHAT?   \n",
       "1          No. You don’t get to speak to a manager.   \n",
       "2                    I am losing faith in humanity!   \n",
       "3                   Thanks for being Racist, Susan.   \n",
       "4  Let me vent to you about a dumb call I had today   \n",
       "\n",
       "                                                post upvotes gilded  \\\n",
       "0  So last night I had a very bizarre call from s...     412      0   \n",
       "1  So I had this call from a third party, which i...     755      0   \n",
       "2  Why people give their SSN and DOB to random pe...      18      0   \n",
       "3  I am 50% white but I have an uncommon first na...       8      0   \n",
       "4  So I am a team leader. We will call the custom...       5      0   \n",
       "\n",
       "   belongs_to_sub2                                       title_x_post  \\\n",
       "0                0  Your Son is Seven and He's Getting WHAT? So la...   \n",
       "1                0  No. You don’t get to speak to a manager. So I ...   \n",
       "2                0  I am losing faith in humanity! Why people give...   \n",
       "3                0  Thanks for being Racist, Susan. I am 50% white...   \n",
       "4                0  Let me vent to you about a dumb call I had tod...   \n",
       "\n",
       "                                        cleaned_text  \n",
       "0  son seven getting last night bizarre call some...  \n",
       "1  get speak manager call third party nothing new...  \n",
       "2  losing faith humanity people give ssn dob rand...  \n",
       "3  thanks racist susan white uncommon first name ...  \n",
       "4  let vent dumb call today team leader call cust...  "
      ]
     },
     "execution_count": 36,
     "metadata": {},
     "output_type": "execute_result"
    }
   ],
   "source": [
    "df.head()"
   ]
  },
  {
   "cell_type": "code",
   "execution_count": 37,
   "metadata": {},
   "outputs": [],
   "source": [
    "df.to_csv('../datasets/fresh_test_data_cleaned_for_modelling_4dec_df.csv', index=False)"
   ]
  },
  {
   "cell_type": "code",
   "execution_count": null,
   "metadata": {},
   "outputs": [],
   "source": []
  }
 ],
 "metadata": {
  "kernelspec": {
   "display_name": "Python 3",
   "language": "python",
   "name": "python3"
  },
  "language_info": {
   "codemirror_mode": {
    "name": "ipython",
    "version": 3
   },
   "file_extension": ".py",
   "mimetype": "text/x-python",
   "name": "python",
   "nbconvert_exporter": "python",
   "pygments_lexer": "ipython3",
   "version": "3.8.3"
  }
 },
 "nbformat": 4,
 "nbformat_minor": 4
}
